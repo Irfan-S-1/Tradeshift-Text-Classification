{
 "cells": [
  {
   "cell_type": "markdown",
   "metadata": {},
   "source": [
    "# **GI BOTS Assignment**"
   ]
  },
  {
   "cell_type": "markdown",
   "metadata": {},
   "source": [
    "* **importing libraries**"
   ]
  },
  {
   "cell_type": "code",
   "execution_count": 1,
   "metadata": {},
   "outputs": [],
   "source": [
    "import pandas as pd\n",
    "import numpy as np\n",
    "from collections import Counter\n"
   ]
  },
  {
   "cell_type": "markdown",
   "metadata": {},
   "source": [
    "* **importing train data,test data,train_labels data**"
   ]
  },
  {
   "cell_type": "code",
   "execution_count": 2,
   "metadata": {},
   "outputs": [],
   "source": [
    "train=pd.read_csv('C:\\\\Users\\\\Asus\\\\Desktop\\\\DATA  Scientist\\\\train.csv')\n",
    "test=pd.read_csv('C:\\\\Users\\\\Asus\\\\Desktop\\\\DATA  Scientist\\\\test.csv')\n",
    "train_labels=pd.read_csv('C:\\\\Users\\\\Asus\\\\Desktop\\\\DATA  Scientist\\\\trainLabels.csv')\n"
   ]
  },
  {
   "cell_type": "code",
   "execution_count": 46,
   "metadata": {},
   "outputs": [],
   "source": [
    "import os\n",
    "os.chdir(\"C:\\\\Users\\\\Asus\\\\Desktop\\\\DATA  Scientist\")"
   ]
  },
  {
   "cell_type": "code",
   "execution_count": 3,
   "metadata": {},
   "outputs": [
    {
     "name": "stdout",
     "output_type": "stream",
     "text": [
      "(9999, 146) (1999, 146) (49999, 34)\n"
     ]
    }
   ],
   "source": [
    "print(train.shape,test.shape,train_labels.shape)"
   ]
  },
  {
   "cell_type": "markdown",
   "metadata": {},
   "source": [
    "* **Merging train data with train_labels data**"
   ]
  },
  {
   "cell_type": "code",
   "execution_count": 4,
   "metadata": {},
   "outputs": [],
   "source": [
    "train_with_labels=pd.merge(train,train_labels,on='id')"
   ]
  },
  {
   "cell_type": "code",
   "execution_count": 5,
   "metadata": {},
   "outputs": [
    {
     "data": {
      "text/plain": [
       "(9999, 179)"
      ]
     },
     "execution_count": 5,
     "metadata": {},
     "output_type": "execute_result"
    }
   ],
   "source": [
    "train_with_labels.shape"
   ]
  },
  {
   "cell_type": "code",
   "execution_count": 6,
   "metadata": {},
   "outputs": [
    {
     "data": {
      "text/html": [
       "<div>\n",
       "<style scoped>\n",
       "    .dataframe tbody tr th:only-of-type {\n",
       "        vertical-align: middle;\n",
       "    }\n",
       "\n",
       "    .dataframe tbody tr th {\n",
       "        vertical-align: top;\n",
       "    }\n",
       "\n",
       "    .dataframe thead th {\n",
       "        text-align: right;\n",
       "    }\n",
       "</style>\n",
       "<table border=\"1\" class=\"dataframe\">\n",
       "  <thead>\n",
       "    <tr style=\"text-align: right;\">\n",
       "      <th></th>\n",
       "      <th>id</th>\n",
       "      <th>x1</th>\n",
       "      <th>x2</th>\n",
       "      <th>x3</th>\n",
       "      <th>x4</th>\n",
       "      <th>x5</th>\n",
       "      <th>x6</th>\n",
       "      <th>x7</th>\n",
       "      <th>x8</th>\n",
       "      <th>x9</th>\n",
       "      <th>...</th>\n",
       "      <th>y24</th>\n",
       "      <th>y25</th>\n",
       "      <th>y26</th>\n",
       "      <th>y27</th>\n",
       "      <th>y28</th>\n",
       "      <th>y29</th>\n",
       "      <th>y30</th>\n",
       "      <th>y31</th>\n",
       "      <th>y32</th>\n",
       "      <th>y33</th>\n",
       "    </tr>\n",
       "  </thead>\n",
       "  <tbody>\n",
       "    <tr>\n",
       "      <th>0</th>\n",
       "      <td>1</td>\n",
       "      <td>NO</td>\n",
       "      <td>NO</td>\n",
       "      <td>dqOiM6yBYgnVSezBRiQXs9bvOFnRqrtIoXRIElxD7g8=</td>\n",
       "      <td>GNjrXXA3SxbgD0dTRblAPO9jFJ7AIaZnu/f48g5XSUk=</td>\n",
       "      <td>0.576561</td>\n",
       "      <td>0.073139</td>\n",
       "      <td>0.481394</td>\n",
       "      <td>0.115697</td>\n",
       "      <td>0.472474</td>\n",
       "      <td>...</td>\n",
       "      <td>0</td>\n",
       "      <td>0</td>\n",
       "      <td>0</td>\n",
       "      <td>0</td>\n",
       "      <td>0</td>\n",
       "      <td>0</td>\n",
       "      <td>0</td>\n",
       "      <td>0</td>\n",
       "      <td>0</td>\n",
       "      <td>1</td>\n",
       "    </tr>\n",
       "    <tr>\n",
       "      <th>1</th>\n",
       "      <td>2</td>\n",
       "      <td>NaN</td>\n",
       "      <td>NaN</td>\n",
       "      <td>NaN</td>\n",
       "      <td>NaN</td>\n",
       "      <td>0.000000</td>\n",
       "      <td>0.000000</td>\n",
       "      <td>0.000000</td>\n",
       "      <td>0.000000</td>\n",
       "      <td>0.000000</td>\n",
       "      <td>...</td>\n",
       "      <td>0</td>\n",
       "      <td>0</td>\n",
       "      <td>0</td>\n",
       "      <td>0</td>\n",
       "      <td>0</td>\n",
       "      <td>0</td>\n",
       "      <td>0</td>\n",
       "      <td>0</td>\n",
       "      <td>1</td>\n",
       "      <td>0</td>\n",
       "    </tr>\n",
       "    <tr>\n",
       "      <th>2</th>\n",
       "      <td>3</td>\n",
       "      <td>NO</td>\n",
       "      <td>NO</td>\n",
       "      <td>ib4VpsEsqJHzDiyL0dZLQ+xQzDPrkxE+9T3mx5fv2wI=</td>\n",
       "      <td>X6dDAI/DZOWvu0Dg6gCgRoNr2vTUz/mc4SdHTNUPS38=</td>\n",
       "      <td>1.341803</td>\n",
       "      <td>0.051422</td>\n",
       "      <td>0.935572</td>\n",
       "      <td>0.041440</td>\n",
       "      <td>0.501710</td>\n",
       "      <td>...</td>\n",
       "      <td>0</td>\n",
       "      <td>0</td>\n",
       "      <td>0</td>\n",
       "      <td>0</td>\n",
       "      <td>0</td>\n",
       "      <td>0</td>\n",
       "      <td>0</td>\n",
       "      <td>0</td>\n",
       "      <td>0</td>\n",
       "      <td>0</td>\n",
       "    </tr>\n",
       "    <tr>\n",
       "      <th>3</th>\n",
       "      <td>4</td>\n",
       "      <td>YES</td>\n",
       "      <td>NO</td>\n",
       "      <td>BfrqME7vdLw3suQp6YAT16W2piNUmpKhMzuDrVrFQ4w=</td>\n",
       "      <td>YGCdISifn4fLao/ASKdZFhGIq23oqzfSbUVb6px1pig=</td>\n",
       "      <td>0.653912</td>\n",
       "      <td>0.041471</td>\n",
       "      <td>0.940787</td>\n",
       "      <td>0.090851</td>\n",
       "      <td>0.556564</td>\n",
       "      <td>...</td>\n",
       "      <td>0</td>\n",
       "      <td>0</td>\n",
       "      <td>0</td>\n",
       "      <td>0</td>\n",
       "      <td>0</td>\n",
       "      <td>0</td>\n",
       "      <td>0</td>\n",
       "      <td>0</td>\n",
       "      <td>0</td>\n",
       "      <td>1</td>\n",
       "    </tr>\n",
       "    <tr>\n",
       "      <th>4</th>\n",
       "      <td>5</td>\n",
       "      <td>NO</td>\n",
       "      <td>NO</td>\n",
       "      <td>RTjsrrR8DTlJyaIP9Q3Z8s0zseqlVQTrlSe97GCWfbk=</td>\n",
       "      <td>3yK2OPj1uYDsoMgsxsjY1FxXkOllD8Xfh20VYGqT+nU=</td>\n",
       "      <td>1.415919</td>\n",
       "      <td>0.000000</td>\n",
       "      <td>1.000000</td>\n",
       "      <td>0.000000</td>\n",
       "      <td>0.375297</td>\n",
       "      <td>...</td>\n",
       "      <td>0</td>\n",
       "      <td>0</td>\n",
       "      <td>0</td>\n",
       "      <td>0</td>\n",
       "      <td>0</td>\n",
       "      <td>0</td>\n",
       "      <td>0</td>\n",
       "      <td>0</td>\n",
       "      <td>0</td>\n",
       "      <td>1</td>\n",
       "    </tr>\n",
       "  </tbody>\n",
       "</table>\n",
       "<p>5 rows × 179 columns</p>\n",
       "</div>"
      ],
      "text/plain": [
       "   id   x1   x2                                            x3  \\\n",
       "0   1   NO   NO  dqOiM6yBYgnVSezBRiQXs9bvOFnRqrtIoXRIElxD7g8=   \n",
       "1   2  NaN  NaN                                           NaN   \n",
       "2   3   NO   NO  ib4VpsEsqJHzDiyL0dZLQ+xQzDPrkxE+9T3mx5fv2wI=   \n",
       "3   4  YES   NO  BfrqME7vdLw3suQp6YAT16W2piNUmpKhMzuDrVrFQ4w=   \n",
       "4   5   NO   NO  RTjsrrR8DTlJyaIP9Q3Z8s0zseqlVQTrlSe97GCWfbk=   \n",
       "\n",
       "                                             x4        x5        x6        x7  \\\n",
       "0  GNjrXXA3SxbgD0dTRblAPO9jFJ7AIaZnu/f48g5XSUk=  0.576561  0.073139  0.481394   \n",
       "1                                           NaN  0.000000  0.000000  0.000000   \n",
       "2  X6dDAI/DZOWvu0Dg6gCgRoNr2vTUz/mc4SdHTNUPS38=  1.341803  0.051422  0.935572   \n",
       "3  YGCdISifn4fLao/ASKdZFhGIq23oqzfSbUVb6px1pig=  0.653912  0.041471  0.940787   \n",
       "4  3yK2OPj1uYDsoMgsxsjY1FxXkOllD8Xfh20VYGqT+nU=  1.415919  0.000000  1.000000   \n",
       "\n",
       "         x8        x9  ... y24 y25 y26 y27 y28  y29  y30  y31  y32  y33  \n",
       "0  0.115697  0.472474  ...   0   0   0   0   0    0    0    0    0    1  \n",
       "1  0.000000  0.000000  ...   0   0   0   0   0    0    0    0    1    0  \n",
       "2  0.041440  0.501710  ...   0   0   0   0   0    0    0    0    0    0  \n",
       "3  0.090851  0.556564  ...   0   0   0   0   0    0    0    0    0    1  \n",
       "4  0.000000  0.375297  ...   0   0   0   0   0    0    0    0    0    1  \n",
       "\n",
       "[5 rows x 179 columns]"
      ]
     },
     "execution_count": 6,
     "metadata": {},
     "output_type": "execute_result"
    }
   ],
   "source": [
    "train_with_labels.head()"
   ]
  },
  {
   "cell_type": "code",
   "execution_count": 7,
   "metadata": {},
   "outputs": [
    {
     "data": {
      "text/plain": [
       "Counter({'i': 1, 'x': 145, 'y': 33})"
      ]
     },
     "execution_count": 7,
     "metadata": {},
     "output_type": "execute_result"
    }
   ],
   "source": [
    "Counter([name[0] for name in train_with_labels.columns])"
   ]
  },
  {
   "cell_type": "markdown",
   "metadata": {},
   "source": [
    "* **Encoding and preprocessing features converting categorical to numerical**"
   ]
  },
  {
   "cell_type": "code",
   "execution_count": 8,
   "metadata": {},
   "outputs": [],
   "source": [
    "from sklearn.feature_extraction import DictVectorizer\n"
   ]
  },
  {
   "cell_type": "code",
   "execution_count": 9,
   "metadata": {},
   "outputs": [],
   "source": [
    "X_numerical = []\n",
    "X_test_numerical = []\n",
    "\n",
    "\n",
    "names_categorical = []"
   ]
  },
  {
   "cell_type": "code",
   "execution_count": 10,
   "metadata": {},
   "outputs": [],
   "source": [
    "vec = DictVectorizer()"
   ]
  },
  {
   "cell_type": "code",
   "execution_count": 11,
   "metadata": {},
   "outputs": [],
   "source": [
    "train_with_labels.replace('YES', 1, inplace = True)\n",
    "train_with_labels.replace('NO', 0, inplace = True)\n",
    "train_with_labels.replace('nan', np.NaN, inplace = True)\n",
    "\n",
    "test.replace('YES', 1, inplace = True)\n",
    "test.replace('NO', 0, inplace = True)\n",
    "test.replace('nan', np.NaN, inplace = True)\n"
   ]
  },
  {
   "cell_type": "code",
   "execution_count": 12,
   "metadata": {},
   "outputs": [
    {
     "data": {
      "text/html": [
       "<div>\n",
       "<style scoped>\n",
       "    .dataframe tbody tr th:only-of-type {\n",
       "        vertical-align: middle;\n",
       "    }\n",
       "\n",
       "    .dataframe tbody tr th {\n",
       "        vertical-align: top;\n",
       "    }\n",
       "\n",
       "    .dataframe thead th {\n",
       "        text-align: right;\n",
       "    }\n",
       "</style>\n",
       "<table border=\"1\" class=\"dataframe\">\n",
       "  <thead>\n",
       "    <tr style=\"text-align: right;\">\n",
       "      <th></th>\n",
       "      <th>id</th>\n",
       "      <th>x1</th>\n",
       "      <th>x2</th>\n",
       "      <th>x3</th>\n",
       "      <th>x4</th>\n",
       "      <th>x5</th>\n",
       "      <th>x6</th>\n",
       "      <th>x7</th>\n",
       "      <th>x8</th>\n",
       "      <th>x9</th>\n",
       "      <th>...</th>\n",
       "      <th>x136</th>\n",
       "      <th>x137</th>\n",
       "      <th>x138</th>\n",
       "      <th>x139</th>\n",
       "      <th>x140</th>\n",
       "      <th>x141</th>\n",
       "      <th>x142</th>\n",
       "      <th>x143</th>\n",
       "      <th>x144</th>\n",
       "      <th>x145</th>\n",
       "    </tr>\n",
       "  </thead>\n",
       "  <tbody>\n",
       "    <tr>\n",
       "      <th>0</th>\n",
       "      <td>1698002</td>\n",
       "      <td>0.0</td>\n",
       "      <td>0.0</td>\n",
       "      <td>9ACcuXc7MMm9V7jZSr3P3VxAKyMvLAtsdwPKwgncc+k=</td>\n",
       "      <td>WV5vAHFyqkeuyFB5KVNGFOBuwjkUGKYc8wh9QfpVzAA=</td>\n",
       "      <td>0.832679</td>\n",
       "      <td>0.049834</td>\n",
       "      <td>0.945938</td>\n",
       "      <td>0.317427</td>\n",
       "      <td>0.482021</td>\n",
       "      <td>...</td>\n",
       "      <td>1.0</td>\n",
       "      <td>0.866667</td>\n",
       "      <td>4672</td>\n",
       "      <td>3311</td>\n",
       "      <td>0</td>\n",
       "      <td>0</td>\n",
       "      <td>0</td>\n",
       "      <td>5</td>\n",
       "      <td>0.945032</td>\n",
       "      <td>0.471318</td>\n",
       "    </tr>\n",
       "    <tr>\n",
       "      <th>1</th>\n",
       "      <td>1698003</td>\n",
       "      <td>0.0</td>\n",
       "      <td>0.0</td>\n",
       "      <td>MeBJ/ZzEIXfNKat4w1oeDxiMNKrAeY0PH41i00hpYDo=</td>\n",
       "      <td>tnLDGLnpYhzsik5+X+WPo4KQJoQA0TfWRlmEtQ3XNJQ=</td>\n",
       "      <td>1.415919</td>\n",
       "      <td>0.000000</td>\n",
       "      <td>1.000000</td>\n",
       "      <td>0.000000</td>\n",
       "      <td>0.703088</td>\n",
       "      <td>...</td>\n",
       "      <td>-1.0</td>\n",
       "      <td>1.000000</td>\n",
       "      <td>1263</td>\n",
       "      <td>892</td>\n",
       "      <td>0</td>\n",
       "      <td>0</td>\n",
       "      <td>0</td>\n",
       "      <td>8</td>\n",
       "      <td>0.557175</td>\n",
       "      <td>0.693587</td>\n",
       "    </tr>\n",
       "    <tr>\n",
       "      <th>2</th>\n",
       "      <td>1698004</td>\n",
       "      <td>NaN</td>\n",
       "      <td>NaN</td>\n",
       "      <td>NaN</td>\n",
       "      <td>NaN</td>\n",
       "      <td>0.000000</td>\n",
       "      <td>0.000000</td>\n",
       "      <td>0.000000</td>\n",
       "      <td>0.000000</td>\n",
       "      <td>0.000000</td>\n",
       "      <td>...</td>\n",
       "      <td>0.0</td>\n",
       "      <td>0.870000</td>\n",
       "      <td>4672</td>\n",
       "      <td>3306</td>\n",
       "      <td>1</td>\n",
       "      <td>0</td>\n",
       "      <td>1</td>\n",
       "      <td>0</td>\n",
       "      <td>0.870538</td>\n",
       "      <td>0.405822</td>\n",
       "    </tr>\n",
       "    <tr>\n",
       "      <th>3</th>\n",
       "      <td>1698005</td>\n",
       "      <td>0.0</td>\n",
       "      <td>0.0</td>\n",
       "      <td>uduY7XWJ8eFgTltv5P0rPh5GW6KwBu+tPFH13uQRN+0=</td>\n",
       "      <td>0L7+hNDV8S57etySgdljbm2AK1zQuLP77lGk2hyEmCo=</td>\n",
       "      <td>1.129212</td>\n",
       "      <td>0.087020</td>\n",
       "      <td>0.814240</td>\n",
       "      <td>1.112804</td>\n",
       "      <td>0.874318</td>\n",
       "      <td>...</td>\n",
       "      <td>0.0</td>\n",
       "      <td>0.870000</td>\n",
       "      <td>4400</td>\n",
       "      <td>3413</td>\n",
       "      <td>1</td>\n",
       "      <td>0</td>\n",
       "      <td>1</td>\n",
       "      <td>2</td>\n",
       "      <td>0.224729</td>\n",
       "      <td>0.870909</td>\n",
       "    </tr>\n",
       "    <tr>\n",
       "      <th>4</th>\n",
       "      <td>1698006</td>\n",
       "      <td>0.0</td>\n",
       "      <td>0.0</td>\n",
       "      <td>kM4KU87XvnvKRvf4dN3Tu4zQYq8fpcqhDTFADWdfCg8=</td>\n",
       "      <td>4LhhvTzxwvh2SnFtcpaRasyvph66a3YDIQCshAfyS2o=</td>\n",
       "      <td>1.415919</td>\n",
       "      <td>0.000000</td>\n",
       "      <td>1.000000</td>\n",
       "      <td>0.000000</td>\n",
       "      <td>0.232779</td>\n",
       "      <td>...</td>\n",
       "      <td>0.0</td>\n",
       "      <td>1.000000</td>\n",
       "      <td>1263</td>\n",
       "      <td>892</td>\n",
       "      <td>1</td>\n",
       "      <td>0</td>\n",
       "      <td>1</td>\n",
       "      <td>6</td>\n",
       "      <td>0.536996</td>\n",
       "      <td>0.223278</td>\n",
       "    </tr>\n",
       "  </tbody>\n",
       "</table>\n",
       "<p>5 rows × 146 columns</p>\n",
       "</div>"
      ],
      "text/plain": [
       "        id   x1   x2                                            x3  \\\n",
       "0  1698002  0.0  0.0  9ACcuXc7MMm9V7jZSr3P3VxAKyMvLAtsdwPKwgncc+k=   \n",
       "1  1698003  0.0  0.0  MeBJ/ZzEIXfNKat4w1oeDxiMNKrAeY0PH41i00hpYDo=   \n",
       "2  1698004  NaN  NaN                                           NaN   \n",
       "3  1698005  0.0  0.0  uduY7XWJ8eFgTltv5P0rPh5GW6KwBu+tPFH13uQRN+0=   \n",
       "4  1698006  0.0  0.0  kM4KU87XvnvKRvf4dN3Tu4zQYq8fpcqhDTFADWdfCg8=   \n",
       "\n",
       "                                             x4        x5        x6        x7  \\\n",
       "0  WV5vAHFyqkeuyFB5KVNGFOBuwjkUGKYc8wh9QfpVzAA=  0.832679  0.049834  0.945938   \n",
       "1  tnLDGLnpYhzsik5+X+WPo4KQJoQA0TfWRlmEtQ3XNJQ=  1.415919  0.000000  1.000000   \n",
       "2                                           NaN  0.000000  0.000000  0.000000   \n",
       "3  0L7+hNDV8S57etySgdljbm2AK1zQuLP77lGk2hyEmCo=  1.129212  0.087020  0.814240   \n",
       "4  4LhhvTzxwvh2SnFtcpaRasyvph66a3YDIQCshAfyS2o=  1.415919  0.000000  1.000000   \n",
       "\n",
       "         x8        x9  ...  x136      x137  x138  x139  x140  x141  x142  \\\n",
       "0  0.317427  0.482021  ...   1.0  0.866667  4672  3311     0     0     0   \n",
       "1  0.000000  0.703088  ...  -1.0  1.000000  1263   892     0     0     0   \n",
       "2  0.000000  0.000000  ...   0.0  0.870000  4672  3306     1     0     1   \n",
       "3  1.112804  0.874318  ...   0.0  0.870000  4400  3413     1     0     1   \n",
       "4  0.000000  0.232779  ...   0.0  1.000000  1263   892     1     0     1   \n",
       "\n",
       "   x143      x144      x145  \n",
       "0     5  0.945032  0.471318  \n",
       "1     8  0.557175  0.693587  \n",
       "2     0  0.870538  0.405822  \n",
       "3     2  0.224729  0.870909  \n",
       "4     6  0.536996  0.223278  \n",
       "\n",
       "[5 rows x 146 columns]"
      ]
     },
     "execution_count": 12,
     "metadata": {},
     "output_type": "execute_result"
    }
   ],
   "source": [
    "test.head()"
   ]
  },
  {
   "cell_type": "code",
   "execution_count": 13,
   "metadata": {},
   "outputs": [
    {
     "data": {
      "text/html": [
       "<div>\n",
       "<style scoped>\n",
       "    .dataframe tbody tr th:only-of-type {\n",
       "        vertical-align: middle;\n",
       "    }\n",
       "\n",
       "    .dataframe tbody tr th {\n",
       "        vertical-align: top;\n",
       "    }\n",
       "\n",
       "    .dataframe thead th {\n",
       "        text-align: right;\n",
       "    }\n",
       "</style>\n",
       "<table border=\"1\" class=\"dataframe\">\n",
       "  <thead>\n",
       "    <tr style=\"text-align: right;\">\n",
       "      <th></th>\n",
       "      <th>id</th>\n",
       "      <th>x1</th>\n",
       "      <th>x2</th>\n",
       "      <th>x3</th>\n",
       "      <th>x4</th>\n",
       "      <th>x5</th>\n",
       "      <th>x6</th>\n",
       "      <th>x7</th>\n",
       "      <th>x8</th>\n",
       "      <th>x9</th>\n",
       "      <th>...</th>\n",
       "      <th>y24</th>\n",
       "      <th>y25</th>\n",
       "      <th>y26</th>\n",
       "      <th>y27</th>\n",
       "      <th>y28</th>\n",
       "      <th>y29</th>\n",
       "      <th>y30</th>\n",
       "      <th>y31</th>\n",
       "      <th>y32</th>\n",
       "      <th>y33</th>\n",
       "    </tr>\n",
       "  </thead>\n",
       "  <tbody>\n",
       "    <tr>\n",
       "      <th>0</th>\n",
       "      <td>1</td>\n",
       "      <td>0.0</td>\n",
       "      <td>0.0</td>\n",
       "      <td>dqOiM6yBYgnVSezBRiQXs9bvOFnRqrtIoXRIElxD7g8=</td>\n",
       "      <td>GNjrXXA3SxbgD0dTRblAPO9jFJ7AIaZnu/f48g5XSUk=</td>\n",
       "      <td>0.576561</td>\n",
       "      <td>0.073139</td>\n",
       "      <td>0.481394</td>\n",
       "      <td>0.115697</td>\n",
       "      <td>0.472474</td>\n",
       "      <td>...</td>\n",
       "      <td>0</td>\n",
       "      <td>0</td>\n",
       "      <td>0</td>\n",
       "      <td>0</td>\n",
       "      <td>0</td>\n",
       "      <td>0</td>\n",
       "      <td>0</td>\n",
       "      <td>0</td>\n",
       "      <td>0</td>\n",
       "      <td>1</td>\n",
       "    </tr>\n",
       "    <tr>\n",
       "      <th>1</th>\n",
       "      <td>2</td>\n",
       "      <td>NaN</td>\n",
       "      <td>NaN</td>\n",
       "      <td>NaN</td>\n",
       "      <td>NaN</td>\n",
       "      <td>0.000000</td>\n",
       "      <td>0.000000</td>\n",
       "      <td>0.000000</td>\n",
       "      <td>0.000000</td>\n",
       "      <td>0.000000</td>\n",
       "      <td>...</td>\n",
       "      <td>0</td>\n",
       "      <td>0</td>\n",
       "      <td>0</td>\n",
       "      <td>0</td>\n",
       "      <td>0</td>\n",
       "      <td>0</td>\n",
       "      <td>0</td>\n",
       "      <td>0</td>\n",
       "      <td>1</td>\n",
       "      <td>0</td>\n",
       "    </tr>\n",
       "    <tr>\n",
       "      <th>2</th>\n",
       "      <td>3</td>\n",
       "      <td>0.0</td>\n",
       "      <td>0.0</td>\n",
       "      <td>ib4VpsEsqJHzDiyL0dZLQ+xQzDPrkxE+9T3mx5fv2wI=</td>\n",
       "      <td>X6dDAI/DZOWvu0Dg6gCgRoNr2vTUz/mc4SdHTNUPS38=</td>\n",
       "      <td>1.341803</td>\n",
       "      <td>0.051422</td>\n",
       "      <td>0.935572</td>\n",
       "      <td>0.041440</td>\n",
       "      <td>0.501710</td>\n",
       "      <td>...</td>\n",
       "      <td>0</td>\n",
       "      <td>0</td>\n",
       "      <td>0</td>\n",
       "      <td>0</td>\n",
       "      <td>0</td>\n",
       "      <td>0</td>\n",
       "      <td>0</td>\n",
       "      <td>0</td>\n",
       "      <td>0</td>\n",
       "      <td>0</td>\n",
       "    </tr>\n",
       "    <tr>\n",
       "      <th>3</th>\n",
       "      <td>4</td>\n",
       "      <td>1.0</td>\n",
       "      <td>0.0</td>\n",
       "      <td>BfrqME7vdLw3suQp6YAT16W2piNUmpKhMzuDrVrFQ4w=</td>\n",
       "      <td>YGCdISifn4fLao/ASKdZFhGIq23oqzfSbUVb6px1pig=</td>\n",
       "      <td>0.653912</td>\n",
       "      <td>0.041471</td>\n",
       "      <td>0.940787</td>\n",
       "      <td>0.090851</td>\n",
       "      <td>0.556564</td>\n",
       "      <td>...</td>\n",
       "      <td>0</td>\n",
       "      <td>0</td>\n",
       "      <td>0</td>\n",
       "      <td>0</td>\n",
       "      <td>0</td>\n",
       "      <td>0</td>\n",
       "      <td>0</td>\n",
       "      <td>0</td>\n",
       "      <td>0</td>\n",
       "      <td>1</td>\n",
       "    </tr>\n",
       "    <tr>\n",
       "      <th>4</th>\n",
       "      <td>5</td>\n",
       "      <td>0.0</td>\n",
       "      <td>0.0</td>\n",
       "      <td>RTjsrrR8DTlJyaIP9Q3Z8s0zseqlVQTrlSe97GCWfbk=</td>\n",
       "      <td>3yK2OPj1uYDsoMgsxsjY1FxXkOllD8Xfh20VYGqT+nU=</td>\n",
       "      <td>1.415919</td>\n",
       "      <td>0.000000</td>\n",
       "      <td>1.000000</td>\n",
       "      <td>0.000000</td>\n",
       "      <td>0.375297</td>\n",
       "      <td>...</td>\n",
       "      <td>0</td>\n",
       "      <td>0</td>\n",
       "      <td>0</td>\n",
       "      <td>0</td>\n",
       "      <td>0</td>\n",
       "      <td>0</td>\n",
       "      <td>0</td>\n",
       "      <td>0</td>\n",
       "      <td>0</td>\n",
       "      <td>1</td>\n",
       "    </tr>\n",
       "  </tbody>\n",
       "</table>\n",
       "<p>5 rows × 179 columns</p>\n",
       "</div>"
      ],
      "text/plain": [
       "   id   x1   x2                                            x3  \\\n",
       "0   1  0.0  0.0  dqOiM6yBYgnVSezBRiQXs9bvOFnRqrtIoXRIElxD7g8=   \n",
       "1   2  NaN  NaN                                           NaN   \n",
       "2   3  0.0  0.0  ib4VpsEsqJHzDiyL0dZLQ+xQzDPrkxE+9T3mx5fv2wI=   \n",
       "3   4  1.0  0.0  BfrqME7vdLw3suQp6YAT16W2piNUmpKhMzuDrVrFQ4w=   \n",
       "4   5  0.0  0.0  RTjsrrR8DTlJyaIP9Q3Z8s0zseqlVQTrlSe97GCWfbk=   \n",
       "\n",
       "                                             x4        x5        x6        x7  \\\n",
       "0  GNjrXXA3SxbgD0dTRblAPO9jFJ7AIaZnu/f48g5XSUk=  0.576561  0.073139  0.481394   \n",
       "1                                           NaN  0.000000  0.000000  0.000000   \n",
       "2  X6dDAI/DZOWvu0Dg6gCgRoNr2vTUz/mc4SdHTNUPS38=  1.341803  0.051422  0.935572   \n",
       "3  YGCdISifn4fLao/ASKdZFhGIq23oqzfSbUVb6px1pig=  0.653912  0.041471  0.940787   \n",
       "4  3yK2OPj1uYDsoMgsxsjY1FxXkOllD8Xfh20VYGqT+nU=  1.415919  0.000000  1.000000   \n",
       "\n",
       "         x8        x9  ...  y24  y25  y26  y27  y28  y29  y30  y31  y32  y33  \n",
       "0  0.115697  0.472474  ...    0    0    0    0    0    0    0    0    0    1  \n",
       "1  0.000000  0.000000  ...    0    0    0    0    0    0    0    0    1    0  \n",
       "2  0.041440  0.501710  ...    0    0    0    0    0    0    0    0    0    0  \n",
       "3  0.090851  0.556564  ...    0    0    0    0    0    0    0    0    0    1  \n",
       "4  0.000000  0.375297  ...    0    0    0    0    0    0    0    0    0    1  \n",
       "\n",
       "[5 rows x 179 columns]"
      ]
     },
     "execution_count": 13,
     "metadata": {},
     "output_type": "execute_result"
    }
   ],
   "source": [
    "train_with_labels.head()"
   ]
  },
  {
   "cell_type": "code",
   "execution_count": 14,
   "metadata": {},
   "outputs": [
    {
     "data": {
      "text/plain": [
       "(9999, 179)"
      ]
     },
     "execution_count": 14,
     "metadata": {},
     "output_type": "execute_result"
    }
   ],
   "source": [
    "train_with_labels.shape"
   ]
  },
  {
   "cell_type": "code",
   "execution_count": 15,
   "metadata": {},
   "outputs": [],
   "source": [
    "for name in train_with_labels.columns :    \n",
    "    if name.startswith('x') :\n",
    "        column_type, _ = max(Counter(map(lambda x: str(type(x)), train_with_labels[name])).items(), key = lambda x: x[1])\n",
    "        \n",
    "        # LOL expression\n",
    "        if column_type == str(str) :\n",
    "            train_with_labels[name] = list(map(str, train_with_labels[name]))\n",
    "            test[name] = list(map(str, test[name]))\n",
    "\n",
    "            names_categorical.append(name)\n",
    "            # print (name, len(np.unique(train_with_labels[name])))\n",
    "        else :\n",
    "            X_numerical.append(train_with_labels[name].fillna(-999))\n",
    "            X_test_numerical.append(test[name].fillna(-999))\n",
    "        \n"
   ]
  },
  {
   "cell_type": "code",
   "execution_count": 16,
   "metadata": {},
   "outputs": [],
   "source": [
    "X_numerical = np.column_stack(X_numerical)\n",
    "\n",
    "X_test_numerical = np.column_stack(X_test_numerical)\n",
    "\n",
    "\n",
    "\n"
   ]
  },
  {
   "cell_type": "code",
   "execution_count": 17,
   "metadata": {},
   "outputs": [
    {
     "data": {
      "text/plain": [
       "(9999, 135)"
      ]
     },
     "execution_count": 17,
     "metadata": {},
     "output_type": "execute_result"
    }
   ],
   "source": [
    "X_numerical.shape"
   ]
  },
  {
   "cell_type": "code",
   "execution_count": 18,
   "metadata": {},
   "outputs": [
    {
     "data": {
      "text/plain": [
       "(1999, 135)"
      ]
     },
     "execution_count": 18,
     "metadata": {},
     "output_type": "execute_result"
    }
   ],
   "source": [
    "X_test_numerical.shape"
   ]
  },
  {
   "cell_type": "code",
   "execution_count": 19,
   "metadata": {},
   "outputs": [],
   "source": [
    "X_sparse = vec.fit_transform(train_with_labels[names_categorical].T.to_dict().values())\n",
    "X_test_sparse = vec.transform(test[names_categorical].T.to_dict().values())"
   ]
  },
  {
   "cell_type": "code",
   "execution_count": 20,
   "metadata": {},
   "outputs": [
    {
     "name": "stdout",
     "output_type": "stream",
     "text": [
      "(9999, 135) (9999, 34677) (1999, 135) (1999, 34677)\n"
     ]
    }
   ],
   "source": [
    "print(X_numerical.shape, X_sparse.shape, X_test_numerical.shape, X_test_sparse.shape)"
   ]
  },
  {
   "cell_type": "code",
   "execution_count": 21,
   "metadata": {},
   "outputs": [],
   "source": [
    "X_numerical = np.nan_to_num(X_numerical)\n",
    "X_test_numerical = np.nan_to_num(X_test_numerical)"
   ]
  },
  {
   "cell_type": "markdown",
   "metadata": {},
   "source": [
    "* **Model Building**"
   ]
  },
  {
   "cell_type": "code",
   "execution_count": 27,
   "metadata": {},
   "outputs": [
    {
     "name": "stdout",
     "output_type": "stream",
     "text": [
      "0\n",
      "1\n",
      "2\n",
      "3\n",
      "4\n",
      "5\n",
      "6\n",
      "7\n",
      "8\n",
      "9\n",
      "10\n",
      "11\n",
      "12\n",
      "13\n",
      "14\n",
      "15\n",
      "16\n",
      "17\n",
      "18\n",
      "19\n",
      "20\n",
      "21\n",
      "22\n",
      "23\n",
      "24\n",
      "25\n",
      "26\n",
      "27\n",
      "28\n",
      "29\n",
      "30\n",
      "31\n",
      "32\n"
     ]
    }
   ],
   "source": [
    "from sklearn.metrics import roc_auc_score, f1_score, log_loss, make_scorer\n",
    "from sklearn.svm import LinearSVC\n",
    "from sklearn.model_selection import cross_val_score, train_test_split\n",
    "from sklearn.ensemble import RandomForestClassifier\n",
    "\n",
    "log_loss_scorer = make_scorer(log_loss, needs_proba = True)\n",
    "\n",
    "y_columns = [name for name in train_with_labels.columns if name.startswith('y')]\n",
    "\n",
    "X_numerical_base, X_numerical_meta, X_sparse_base, X_sparse_meta, y_base, y_meta = train_test_split(\n",
    "    X_numerical, \n",
    "    X_sparse, \n",
    "    train_with_labels[y_columns].values,\n",
    "    test_size = 0.5\n",
    ")\n",
    "\n",
    "X_meta = [] \n",
    "X_test_meta = []\n",
    "\n",
    "#print \"Build meta\"\n",
    "\n",
    "for i in range(y_base.shape[1]) :\n",
    "    \n",
    "    print (i)\n",
    "    \n",
    "    y = y_base[:, i]\n",
    "    if len(np.unique(y)) == 2 : \n",
    "        rf = RandomForestClassifier(n_estimators = 10, n_jobs = 1)\n",
    "        rf.fit(X_numerical_base, y)\n",
    "        X_meta.append(rf.predict_proba(X_numerical_meta))\n",
    "        X_test_meta.append(rf.predict_proba(X_test_numerical))\n",
    "\n",
    "        svm = LinearSVC()\n",
    "        svm.fit(X_sparse_base, y)\n",
    "        X_meta.append(svm.decision_function(X_sparse_meta))\n",
    "        X_test_meta.append(svm.decision_function(X_test_sparse))\n",
    "        \n",
    "X_meta = np.column_stack(X_meta)\n",
    "X_test_meta = np.column_stack(X_test_meta)"
   ]
  },
  {
   "cell_type": "code",
   "execution_count": 29,
   "metadata": {},
   "outputs": [
    {
     "name": "stdout",
     "output_type": "stream",
     "text": [
      "(5000, 96) (1999, 96)\n"
     ]
    }
   ],
   "source": [
    "print (X_meta.shape, X_test_meta.shape)"
   ]
  },
  {
   "cell_type": "markdown",
   "metadata": {},
   "source": [
    "* **Predicting test data**"
   ]
  },
  {
   "cell_type": "code",
   "execution_count": 31,
   "metadata": {},
   "outputs": [
    {
     "name": "stdout",
     "output_type": "stream",
     "text": [
      "0 RF log-loss: 0.0254 ± 0.0135, mean = 0.006520\n",
      "1 RF log-loss: 0.0156 ± 0.0127, mean = 0.000684\n",
      "2 RF log-loss: 0.0197 ± 0.0116, mean = 0.026863\n",
      "3 RF log-loss: 0.0158 ± 0.0018, mean = 0.014224\n",
      "4 is constant like: 0.000200\n",
      "5 RF log-loss: 0.1157 ± 0.0301, mean = 0.071040\n",
      "6 RF log-loss: 0.1429 ± 0.0344, mean = 0.039903\n",
      "7 RF log-loss: 0.0100 ± 0.0118, mean = 0.001301\n",
      "8 RF log-loss: 0.0964 ± 0.0355, mean = 0.070502\n",
      "9 RF log-loss: 0.1014 ± 0.0213, mean = 0.016842\n",
      "10 is constant like: 0.000600\n",
      "11 RF log-loss: 0.1051 ± 0.0088, mean = 0.068009\n",
      "12 RF log-loss: 0.0642 ± 0.0282, mean = 0.013407\n",
      "13 is constant like: 0.000000\n",
      "14 RF log-loss: 0.0161 ± 0.0103, mean = 0.002985\n",
      "15 RF log-loss: 0.0204 ± 0.0120, mean = 0.011389\n",
      "16 is constant like: 0.000100\n",
      "17 is constant like: 0.000100\n",
      "18 is constant like: 0.000400\n",
      "19 RF log-loss: 0.0175 ± 0.0136, mean = 0.003969\n",
      "20 RF log-loss: 0.0101 ± 0.0019, mean = 0.008254\n",
      "21 RF log-loss: 0.0165 ± 0.0100, mean = 0.004085\n",
      "22 RF log-loss: 0.0013 ± 0.0002, mean = 0.000700\n",
      "23 RF log-loss: 0.0839 ± 0.0027, mean = 0.019827\n",
      "24 RF log-loss: 0.0170 ± 0.0137, mean = 0.002418\n",
      "25 RF log-loss: 0.0461 ± 0.0174, mean = 0.014441\n",
      "26 RF log-loss: 0.0259 ± 0.0156, mean = 0.010422\n",
      "27 RF log-loss: 0.0399 ± 0.0208, mean = 0.012390\n",
      "28 RF log-loss: 0.1048 ± 0.0403, mean = 0.028698\n",
      "29 RF log-loss: 0.0814 ± 0.0235, mean = 0.024712\n",
      "30 RF log-loss: 0.0699 ± 0.0132, mean = 0.029882\n",
      "31 RF log-loss: 0.0938 ± 0.0181, mean = 0.061597\n",
      "32 RF log-loss: 0.3110 ± 0.0328, mean = 0.555228\n"
     ]
    }
   ],
   "source": [
    "p_test = []\n",
    "\n",
    "for i in range(y_base.shape[1]) :\n",
    "    y = y_meta[:, i]\n",
    "\n",
    "    constant = Counter(y)\n",
    "    constant = constant[0] < 4 or constant[1] < 4\n",
    "    \n",
    "    predicted = None\n",
    "    \n",
    "    if constant :\n",
    "        # Best constant\n",
    "        constant_pred = np.mean(list(y_base[:, i]) + list(y_meta[:, i]))\n",
    "        \n",
    "        predicted = np.ones(X_test_meta.shape[0]) * constant_pred\n",
    "        print (\"%d is constant like: %f\" % (i, constant_pred))\n",
    "    else :\n",
    "        rf = RandomForestClassifier(n_estimators=30, n_jobs = 1)\n",
    "        rf.fit(np.hstack([X_meta, X_numerical_meta]), y)\n",
    "\n",
    "        predicted = rf.predict_proba(np.hstack([X_test_meta, X_test_numerical]))\n",
    "\n",
    "        predicted = predicted[:, 1]\n",
    "        \n",
    "        rf = RandomForestClassifier(n_estimators=30, n_jobs = 1)\n",
    "        scores = cross_val_score(rf, np.hstack([X_meta, X_numerical_meta]), y, cv = 4, n_jobs = 1, scoring = log_loss_scorer)\n",
    "\n",
    "        print (i, 'RF log-loss: %.4f ± %.4f, mean = %.6f' %(np.mean(scores), np.std(scores), np.mean(predicted)))\n",
    "\n",
    "    `\n",
    "    p_test.append(\n",
    "        predicted\n",
    "    )\n",
    "    \n",
    "p_test = np.column_stack(p_test)"
   ]
  },
  {
   "cell_type": "code",
   "execution_count": 42,
   "metadata": {},
   "outputs": [],
   "source": [
    "p_test_=np.argmax(p_test,axis=1)"
   ]
  },
  {
   "cell_type": "code",
   "execution_count": 43,
   "metadata": {},
   "outputs": [
    {
     "data": {
      "text/plain": [
       "array([32, 32,  5, ..., 32, 32, 32], dtype=int64)"
      ]
     },
     "execution_count": 43,
     "metadata": {},
     "output_type": "execute_result"
    }
   ],
   "source": [
    "p_test_"
   ]
  },
  {
   "cell_type": "code",
   "execution_count": 32,
   "metadata": {},
   "outputs": [
    {
     "data": {
      "text/plain": [
       "(1999, 33)"
      ]
     },
     "execution_count": 32,
     "metadata": {},
     "output_type": "execute_result"
    }
   ],
   "source": [
    "p_test.shape"
   ]
  },
  {
   "cell_type": "markdown",
   "metadata": {},
   "source": [
    "* **Submission file**"
   ]
  },
  {
   "cell_type": "code",
   "execution_count": 47,
   "metadata": {},
   "outputs": [],
   "source": [
    "submission = pd.DataFrame({'id_label': test['id'], 'pred':p_test_})\n",
    "submission.to_csv('submission.csv', index=False)"
   ]
  },
  {
   "cell_type": "code",
   "execution_count": null,
   "metadata": {},
   "outputs": [],
   "source": []
  },
  {
   "cell_type": "code",
   "execution_count": null,
   "metadata": {},
   "outputs": [],
   "source": []
  },
  {
   "cell_type": "code",
   "execution_count": null,
   "metadata": {},
   "outputs": [],
   "source": []
  },
  {
   "cell_type": "code",
   "execution_count": null,
   "metadata": {},
   "outputs": [],
   "source": []
  },
  {
   "cell_type": "code",
   "execution_count": null,
   "metadata": {},
   "outputs": [],
   "source": []
  },
  {
   "cell_type": "code",
   "execution_count": null,
   "metadata": {},
   "outputs": [],
   "source": []
  },
  {
   "cell_type": "code",
   "execution_count": null,
   "metadata": {},
   "outputs": [],
   "source": []
  },
  {
   "cell_type": "code",
   "execution_count": null,
   "metadata": {},
   "outputs": [],
   "source": []
  },
  {
   "cell_type": "code",
   "execution_count": null,
   "metadata": {},
   "outputs": [],
   "source": []
  },
  {
   "cell_type": "code",
   "execution_count": null,
   "metadata": {},
   "outputs": [],
   "source": []
  },
  {
   "cell_type": "code",
   "execution_count": null,
   "metadata": {},
   "outputs": [],
   "source": []
  },
  {
   "cell_type": "code",
   "execution_count": null,
   "metadata": {},
   "outputs": [],
   "source": []
  },
  {
   "cell_type": "code",
   "execution_count": null,
   "metadata": {},
   "outputs": [],
   "source": []
  },
  {
   "cell_type": "code",
   "execution_count": null,
   "metadata": {},
   "outputs": [],
   "source": []
  },
  {
   "cell_type": "code",
   "execution_count": null,
   "metadata": {},
   "outputs": [],
   "source": []
  },
  {
   "cell_type": "code",
   "execution_count": null,
   "metadata": {},
   "outputs": [],
   "source": []
  },
  {
   "cell_type": "code",
   "execution_count": null,
   "metadata": {},
   "outputs": [],
   "source": []
  },
  {
   "cell_type": "code",
   "execution_count": null,
   "metadata": {},
   "outputs": [],
   "source": []
  },
  {
   "cell_type": "code",
   "execution_count": null,
   "metadata": {},
   "outputs": [],
   "source": []
  },
  {
   "cell_type": "code",
   "execution_count": null,
   "metadata": {},
   "outputs": [],
   "source": []
  },
  {
   "cell_type": "code",
   "execution_count": null,
   "metadata": {},
   "outputs": [],
   "source": []
  },
  {
   "cell_type": "code",
   "execution_count": null,
   "metadata": {},
   "outputs": [],
   "source": []
  }
 ],
 "metadata": {
  "kernelspec": {
   "display_name": "Python 3",
   "language": "python",
   "name": "python3"
  },
  "language_info": {
   "codemirror_mode": {
    "name": "ipython",
    "version": 3
   },
   "file_extension": ".py",
   "mimetype": "text/x-python",
   "name": "python",
   "nbconvert_exporter": "python",
   "pygments_lexer": "ipython3",
   "version": "3.8.3"
  }
 },
 "nbformat": 4,
 "nbformat_minor": 4
}
